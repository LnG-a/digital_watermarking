{
 "cells": [
  {
   "cell_type": "code",
   "execution_count": 19,
   "metadata": {},
   "outputs": [
    {
     "name": "stdout",
     "output_type": "stream",
     "text": [
      "86.72214243567906\n"
     ]
    }
   ],
   "source": [
    "import cv2\n",
    "import numpy as np\n",
    "import random\n",
    "\n",
    "# Đọc ảnh gốc và watermark\n",
    "img_path = 'input\\DFTimage.jpeg'\n",
    "watermark_path = 'input\\DFTwatermark.jpeg'\n",
    "img = cv2.imread(img_path, cv2.IMREAD_GRAYSCALE)\n",
    "watermark = cv2.imread(watermark_path, cv2.IMREAD_GRAYSCALE)\n",
    "\n",
    "# Lấy kích thước ảnh và thêm padding cho ảnh watermark\n",
    "img_height, img_width = img.shape\n",
    "watermark_height, watermark_width = watermark.shape\n",
    "pad_height = img_height - watermark_height\n",
    "pad_width = img_width - watermark_width\n",
    "watermark_padded = cv2.copyMakeBorder(watermark, 0, pad_height, 0, pad_width, cv2.BORDER_CONSTANT, value=0)\n",
    "\n",
    "# Áp dụng phép biến đổi DFT lên ảnh và watermark\n",
    "img_dft = cv2.dft(np.float32(img), flags=cv2.DFT_COMPLEX_OUTPUT)\n",
    "watermark_dft = cv2.dft(np.float32(watermark_padded), flags=cv2.DFT_COMPLEX_OUTPUT)\n",
    "\n",
    "# Chọn ngẫu nhiên các tần số để chèn watermark\n",
    "num_coeffs = 1000\n",
    "max_height, max_width = img_height//2, img_width//2\n",
    "coords = [(random.randint(0, max_height), random.randint(0, max_width)) for _ in range(num_coeffs)]\n",
    "\n",
    "# Thêm watermark vào các tần số được chọn\n",
    "for coord in coords:\n",
    "    i, j = coord\n",
    "    img_dft[i, j] = watermark_dft[i, j]\n",
    "\n",
    "\n",
    "# Áp dụng phép biến đổi ngược (IDFT) để lấy ảnh đã được chèn watermark\n",
    "img_watermarked = cv2.idft(img_dft, flags=cv2.DFT_COMPLEX_OUTPUT)\n",
    "img_watermarked = cv2.magnitude(img_watermarked[:, :, 0], img_watermarked[:, :, 1])\n",
    "img_watermarked = cv2.normalize(img_watermarked, None, 0, 255, cv2.NORM_MINMAX, dtype=cv2.CV_8U)\n",
    "\n",
    "# Lưu ảnh ra đã được chèn watermark ra file\n",
    "cv2.imwrite('output\\DFTwatermarked.jpg', img_watermarked)\n",
    "# Hiển thị ảnh đã được chèn watermark\n",
    "mad = np.mean(np.abs(img - img_watermarked))\n",
    "print(mad)\n",
    "cv2.imshow('image', img)\n",
    "cv2.imshow('Watermarked image', img_watermarked)\n",
    "cv2.waitKey(0)\n",
    "cv2.destroyAllWindows()\n"
   ]
  },
  {
   "cell_type": "code",
   "execution_count": 25,
   "metadata": {},
   "outputs": [],
   "source": [
    "\n",
    "# Áp dụng phép biến đổi DFT lên ảnh đã được chèn watermark\n",
    "dft = cv2.dft(np.float32(img_watermarked), flags=cv2.DFT_COMPLEX_OUTPUT)\n",
    "\n",
    "# Trích xuất các giá trị tại các tần số đã chọn từ ma trận phức đã được tính toán\n",
    "watermark_dft = np.zeros((img_height, img_width, 2), dtype=np.float32)\n",
    "for coord in coords:\n",
    "    i, j = coord\n",
    "    watermark_dft[i, j] = dft[i, j]\n",
    "\n",
    "# Áp dụng phép biến đổi ngược (IDFT) lên ma trận tần số đã trích xuất để lấy watermark\n",
    "watermark_idft = cv2.idft(watermark_dft, flags=cv2.DFT_COMPLEX_OUTPUT)\n",
    "watermark_idft = cv2.magnitude(watermark_idft[:, :, 0], watermark_idft[:, :, 1])\n",
    "watermark_idft = cv2.normalize(watermark_idft, None, 0, 255, cv2.NORM_MINMAX, dtype=cv2.CV_8U)\n",
    "\n",
    "# Lưu ảnh ra đã trích xuất watermark ra file\n",
    "cv2.imwrite('output\\DFT_extracted_watermark.jpg', watermark_idft)\n",
    "\n",
    "# Hiển thị watermark đã được trích xuất\n",
    "cv2.imshow('Watermark', watermark_idft)\n",
    "cv2.waitKey(0)\n",
    "cv2.destroyAllWindows()\n"
   ]
  }
 ],
 "metadata": {
  "kernelspec": {
   "display_name": "Python 3",
   "language": "python",
   "name": "python3"
  },
  "language_info": {
   "codemirror_mode": {
    "name": "ipython",
    "version": 3
   },
   "file_extension": ".py",
   "mimetype": "text/x-python",
   "name": "python",
   "nbconvert_exporter": "python",
   "pygments_lexer": "ipython3",
   "version": "3.10.6"
  },
  "orig_nbformat": 4
 },
 "nbformat": 4,
 "nbformat_minor": 2
}
